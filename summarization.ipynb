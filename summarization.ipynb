{
 "cells": [
  {
   "cell_type": "code",
   "execution_count": 1,
   "id": "25d5b8df",
   "metadata": {},
   "outputs": [
    {
     "name": "stderr",
     "output_type": "stream",
     "text": [
      "/Users/vanikanoria/anaconda3/envs/topic-modeling/lib/python3.11/site-packages/tqdm/auto.py:21: TqdmWarning: IProgress not found. Please update jupyter and ipywidgets. See https://ipywidgets.readthedocs.io/en/stable/user_install.html\n",
      "  from .autonotebook import tqdm as notebook_tqdm\n"
     ]
    }
   ],
   "source": [
    "import pandas as pd\n",
    "import numpy as np\n",
    "import matplotlib.pyplot as plt\n",
    "import json\n",
    "import spacy\n",
    "from spacy.lang.en.stop_words import STOP_WORDS\n",
    "# import scispacy\n",
    "import re\n",
    "import tqdm\n",
    "from collections import Counter\n",
    "import nltk\n",
    "from nltk.corpus import stopwords\n",
    "from nltk.tokenize import word_tokenize\n",
    "from nltk.util import ngrams\n",
    "import seaborn as sns\n",
    "from sklearn.feature_extraction.text import CountVectorizer\n",
    "from transformers import pipeline\n",
    "from sklearn.feature_extraction.text import CountVectorizer\n",
    "from sklearn.decomposition import LatentDirichletAllocation\n",
    "from bertopic import BERTopic\n",
    "from openai import OpenAI\n",
    "import hdbscan\n",
    "import os\n",
    "from dotenv import load_dotenv\n"
   ]
  },
  {
   "cell_type": "code",
   "execution_count": 13,
   "id": "6d9c8aea",
   "metadata": {},
   "outputs": [],
   "source": [
    "load_dotenv()\n",
    "\n",
    "client = OpenAI(\n",
    "    api_key=os.getenv(\"OPENAI_API_KEY\"))"
   ]
  },
  {
   "cell_type": "markdown",
   "id": "3c30b1bb",
   "metadata": {},
   "source": [
    "### Summarization using LLMs"
   ]
  },
  {
   "cell_type": "code",
   "execution_count": 6,
   "id": "bae9b52f",
   "metadata": {},
   "outputs": [],
   "source": [
    "messages = pd.read_csv('messages.csv')  # Load your messages dataframe\n"
   ]
  },
  {
   "cell_type": "code",
   "execution_count": 7,
   "id": "eb3e1a86",
   "metadata": {},
   "outputs": [
    {
     "data": {
      "text/plain": [
       "\"1. What is your job title/department? Animal Care Specialist at Riverside County Animal Services.\\n2. Who is the department supervisor? Robert Brown\\n3. Brief description of accident: As I was exiting the dog's kennel he got excited and and started jumping up and biting at me.\\n4. Size of the dog and location on body that you were bitten: Large sized dog and under my right upper arm.\\n5. Prior injury to the affected body part? No\\n6. Any medical conditions that require maintenance medication? No\\n7. Have you missed any time from work as a result of this accident? Just 2 hours on the date of the accident (6/3/24) because I left earlier to see a doctor.\\n\\nThanks!\\n-Sarah Cooper\""
      ]
     },
     "execution_count": 7,
     "metadata": {},
     "output_type": "execute_result"
    }
   ],
   "source": [
    "msg = messages.iloc[1]['content']  # Example message for testing\n",
    "msg"
   ]
  },
  {
   "cell_type": "code",
   "execution_count": 8,
   "id": "12b8a917",
   "metadata": {},
   "outputs": [],
   "source": [
    "SYSTEM = \"You extract a short SUBJECT (≤5 words) and a 1 sentence SUMMARY for insurance claim messages. Return JSON.\"\n",
    "user = f\"Message:\\n\\\"\\\"\\\"\\n{msg}\\n\\\"\\\"\\\"\\nRespond as: {{\\\"subject\\\":\\\"...\\\",\\\"summary\\\":\\\"...\\\"}}\"\n"
   ]
  },
  {
   "cell_type": "code",
   "execution_count": 14,
   "id": "112074af",
   "metadata": {},
   "outputs": [],
   "source": [
    "resp = client.chat.completions.create(\n",
    "    model=\"gpt-4o-mini\",  # or your available model\n",
    "    messages=[{\"role\":\"system\",\"content\":SYSTEM},{\"role\":\"user\",\"content\":user}],\n",
    "    # avoid temperature if your model complains; otherwise use 0–0.2 for stability\n",
    "    max_tokens=120\n",
    ")\n",
    "data = json.loads(resp.choices[0].message.content)"
   ]
  },
  {
   "cell_type": "code",
   "execution_count": 15,
   "id": "b87d033c",
   "metadata": {},
   "outputs": [
    {
     "data": {
      "text/plain": [
       "{'subject': 'Dog Bite Incident',\n",
       " 'summary': 'Sarah Cooper, an Animal Care Specialist, was bitten by a large dog under her right upper arm while exiting the kennel.'}"
      ]
     },
     "execution_count": 15,
     "metadata": {},
     "output_type": "execute_result"
    }
   ],
   "source": [
    "data"
   ]
  },
  {
   "cell_type": "code",
   "execution_count": 25,
   "id": "d706d33c",
   "metadata": {},
   "outputs": [],
   "source": [
    "def summarize_and_extract_subject_and_summary(conversation, model=\"gpt-4o-mini\"):\n",
    "    \"\"\"\n",
    "    Summarizes a conversation and extracts a short subject line.\n",
    "    \n",
    "    Args:\n",
    "        conversation (str): Full text of the conversation or message thread.\n",
    "        model (str): OpenAI model to use.\n",
    "\n",
    "    Returns:\n",
    "        dict: { \"subject\": str, \"summary\": str }\n",
    "    \"\"\"\n",
    "    prompt = f\"\"\"\n",
    "    You are given a conversation between a claimant and adjuster.\n",
    "    1. Provide a short subject line (max 8 words) summarizing the main topic. \n",
    "    2. Provide a concise summary (1 sentence) covering the key points.\n",
    "\n",
    "    Provide in JSON format:\n",
    "    {{\n",
    "        \"subject\": \"<short subject line>\",\n",
    "        \"summary\": \"<concise summary>\"\n",
    "    }}\n",
    "\n",
    "    Conversation:\n",
    "    {conversation}\n",
    "    \"\"\"\n",
    "\n",
    "    completion = client.chat.completions.create(\n",
    "        model=model,\n",
    "        messages=[{\"role\": \"user\", \"content\": prompt}],\n",
    "        temperature=0.3\n",
    "    )\n",
    "\n",
    "    response_text = completion.choices[0].message.content.strip()\n",
    "\n",
    "    # Optional: crude split if model outputs in Subject/Summary format\n",
    "    if \"subject\" in response_text and \"summary\" in response_text:\n",
    "        try:\n",
    "            response_json = json.loads(response_text)\n",
    "            subject = response_json.get(\"subject\", \"\")\n",
    "            summary = response_json.get(\"summary\", \"\")\n",
    "        except json.JSONDecodeError:\n",
    "            # Fallback if JSON parsing fails\n",
    "            parts = response_text.split(\"\\n\")\n",
    "            subject = parts[0].replace(\"Subject:\", \"\").strip()\n",
    "            summary = parts[1].replace(\"Summary:\", \"\").strip()\n",
    "    else:\n",
    "        # Fallback to manual extraction\n",
    "        lines = response_text.split(\"\\n\")\n",
    "        subject = lines[0].strip()\n",
    "        summary = \" \".join(line.strip() for line in lines[1:]).strip()\n",
    "\n",
    "    return {\"subject\": subject, \"summary\": summary}"
   ]
  },
  {
   "cell_type": "code",
   "execution_count": 26,
   "id": "d42c0720",
   "metadata": {},
   "outputs": [
    {
     "name": "stdout",
     "output_type": "stream",
     "text": [
      "{'subject': 'Reimbursement Form Missing Information', 'summary': 'The claimant needs to resend the reimbursement form due to a missing mileage section.'}\n"
     ]
    }
   ],
   "source": [
    "# Example usage:\n",
    "conversation_text = \"\"\"\n",
    "Claimant: I sent the reimbursement form last week. Have you received it?\n",
    "Adjuster: Yes, but it’s missing the mileage section.\n",
    "Claimant: Okay, I’ll resend with the missing info.\n",
    "\"\"\"\n",
    "result = summarize_and_extract_subject_and_summary(conversation_text)\n",
    "print(result)"
   ]
  },
  {
   "cell_type": "code",
   "execution_count": null,
   "id": "f897762d",
   "metadata": {},
   "outputs": [],
   "source": [
    "messages_subset = messages.head(50).copy()\n",
    "messages_subset['subject'], messages_subset['summary'] = messages_subset['content'].apply(\n",
    "    lambda x: summarize_and_extract_subject_and_summary(x, model=\"gpt-4o-mini\")\n",
    ")\n"
   ]
  },
  {
   "cell_type": "code",
   "execution_count": null,
   "id": "6a92053d",
   "metadata": {},
   "outputs": [],
   "source": []
  }
 ],
 "metadata": {
  "kernelspec": {
   "display_name": "topic-modeling",
   "language": "python",
   "name": "python3"
  },
  "language_info": {
   "codemirror_mode": {
    "name": "ipython",
    "version": 3
   },
   "file_extension": ".py",
   "mimetype": "text/x-python",
   "name": "python",
   "nbconvert_exporter": "python",
   "pygments_lexer": "ipython3",
   "version": "3.11.0"
  }
 },
 "nbformat": 4,
 "nbformat_minor": 5
}
