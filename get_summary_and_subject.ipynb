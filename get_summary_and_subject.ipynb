{
 "cells": [
  {
   "cell_type": "markdown",
   "id": "57fd8e29",
   "metadata": {},
   "source": [
    "# Notebook to get Summary and Subject Using AI Integration"
   ]
  },
  {
   "cell_type": "code",
   "execution_count": 23,
   "id": "25d5b8df",
   "metadata": {},
   "outputs": [],
   "source": [
    "import pandas as pd\n",
    "import numpy as np\n",
    "import matplotlib.pyplot as plt\n",
    "import json\n",
    "import spacy\n",
    "from spacy.lang.en.stop_words import STOP_WORDS\n",
    "# import scispacy\n",
    "import re\n",
    "import tqdm\n",
    "from collections import Counter\n",
    "import nltk\n",
    "from nltk.corpus import stopwords\n",
    "from nltk.tokenize import word_tokenize\n",
    "from nltk.util import ngrams\n",
    "import seaborn as sns\n",
    "from sklearn.feature_extraction.text import CountVectorizer\n",
    "from transformers import pipeline\n",
    "from sklearn.feature_extraction.text import CountVectorizer\n",
    "from sklearn.decomposition import LatentDirichletAllocation\n",
    "from bertopic import BERTopic\n",
    "from openai import OpenAI\n",
    "import hdbscan\n",
    "import os\n",
    "from dotenv import load_dotenv\n",
    "import ast\n",
    "import sqlite3"
   ]
  },
  {
   "cell_type": "markdown",
   "id": "9f1d5c6a",
   "metadata": {},
   "source": [
    "### Get OpenAI key (saved as environment variable)"
   ]
  },
  {
   "cell_type": "code",
   "execution_count": 29,
   "id": "6d9c8aea",
   "metadata": {},
   "outputs": [],
   "source": [
    "load_dotenv()\n",
    "\n",
    "client = OpenAI(\n",
    "    api_key=os.getenv(\"OPENAI_API_KEY\"))"
   ]
  },
  {
   "cell_type": "markdown",
   "id": "3c30b1bb",
   "metadata": {},
   "source": [
    "### Summarization using LLMs"
   ]
  },
  {
   "cell_type": "code",
   "execution_count": 6,
   "id": "bae9b52f",
   "metadata": {},
   "outputs": [],
   "source": [
    "messages = pd.read_csv('messages.csv')  # Load your messages dataframe\n"
   ]
  },
  {
   "cell_type": "code",
   "execution_count": 7,
   "id": "eb3e1a86",
   "metadata": {},
   "outputs": [
    {
     "data": {
      "text/plain": [
       "\"1. What is your job title/department? Animal Care Specialist at Riverside County Animal Services.\\n2. Who is the department supervisor? Robert Brown\\n3. Brief description of accident: As I was exiting the dog's kennel he got excited and and started jumping up and biting at me.\\n4. Size of the dog and location on body that you were bitten: Large sized dog and under my right upper arm.\\n5. Prior injury to the affected body part? No\\n6. Any medical conditions that require maintenance medication? No\\n7. Have you missed any time from work as a result of this accident? Just 2 hours on the date of the accident (6/3/24) because I left earlier to see a doctor.\\n\\nThanks!\\n-Sarah Cooper\""
      ]
     },
     "execution_count": 7,
     "metadata": {},
     "output_type": "execute_result"
    }
   ],
   "source": [
    "msg = messages.iloc[1]['content']  # Example message for testing\n",
    "msg"
   ]
  },
  {
   "cell_type": "code",
   "execution_count": 30,
   "id": "12b8a917",
   "metadata": {},
   "outputs": [
    {
     "ename": "NameError",
     "evalue": "name 'msg' is not defined",
     "output_type": "error",
     "traceback": [
      "\u001b[0;31m---------------------------------------------------------------------------\u001b[0m",
      "\u001b[0;31mNameError\u001b[0m                                 Traceback (most recent call last)",
      "Cell \u001b[0;32mIn [30], line 2\u001b[0m\n\u001b[1;32m      1\u001b[0m SYSTEM \u001b[38;5;241m=\u001b[39m \u001b[38;5;124m\"\u001b[39m\u001b[38;5;124mYou extract a short SUBJECT (≤5 words) and a 1 sentence SUMMARY for insurance claim messages. Return JSON.\u001b[39m\u001b[38;5;124m\"\u001b[39m\n\u001b[0;32m----> 2\u001b[0m user \u001b[38;5;241m=\u001b[39m \u001b[38;5;124mf\u001b[39m\u001b[38;5;124m\"\u001b[39m\u001b[38;5;124mMessage:\u001b[39m\u001b[38;5;130;01m\\n\u001b[39;00m\u001b[38;5;130;01m\\\"\u001b[39;00m\u001b[38;5;130;01m\\\"\u001b[39;00m\u001b[38;5;130;01m\\\"\u001b[39;00m\u001b[38;5;130;01m\\n\u001b[39;00m\u001b[38;5;132;01m{\u001b[39;00m\u001b[43mmsg\u001b[49m\u001b[38;5;132;01m}\u001b[39;00m\u001b[38;5;130;01m\\n\u001b[39;00m\u001b[38;5;130;01m\\\"\u001b[39;00m\u001b[38;5;130;01m\\\"\u001b[39;00m\u001b[38;5;130;01m\\\"\u001b[39;00m\u001b[38;5;130;01m\\n\u001b[39;00m\u001b[38;5;124mRespond as: \u001b[39m\u001b[38;5;130;01m{{\u001b[39;00m\u001b[38;5;130;01m\\\"\u001b[39;00m\u001b[38;5;124msubject\u001b[39m\u001b[38;5;130;01m\\\"\u001b[39;00m\u001b[38;5;124m:\u001b[39m\u001b[38;5;130;01m\\\"\u001b[39;00m\u001b[38;5;124m...\u001b[39m\u001b[38;5;130;01m\\\"\u001b[39;00m\u001b[38;5;124m,\u001b[39m\u001b[38;5;130;01m\\\"\u001b[39;00m\u001b[38;5;124msummary\u001b[39m\u001b[38;5;130;01m\\\"\u001b[39;00m\u001b[38;5;124m:\u001b[39m\u001b[38;5;130;01m\\\"\u001b[39;00m\u001b[38;5;124m...\u001b[39m\u001b[38;5;130;01m\\\"\u001b[39;00m\u001b[38;5;130;01m}}\u001b[39;00m\u001b[38;5;124m\"\u001b[39m\n",
      "\u001b[0;31mNameError\u001b[0m: name 'msg' is not defined"
     ]
    }
   ],
   "source": [
    "SYSTEM = \"You extract a short SUBJECT (≤5 words) and a 1 sentence SUMMARY for insurance claim messages. Return JSON.\"\n",
    "user = f\"Message:\\n\\\"\\\"\\\"\\n{msg}\\n\\\"\\\"\\\"\\nRespond as: {{\\\"subject\\\":\\\"...\\\",\\\"summary\\\":\\\"...\\\"}}\"\n"
   ]
  },
  {
   "cell_type": "code",
   "execution_count": 31,
   "id": "112074af",
   "metadata": {},
   "outputs": [
    {
     "ename": "NameError",
     "evalue": "name 'user' is not defined",
     "output_type": "error",
     "traceback": [
      "\u001b[0;31m---------------------------------------------------------------------------\u001b[0m",
      "\u001b[0;31mNameError\u001b[0m                                 Traceback (most recent call last)",
      "Cell \u001b[0;32mIn [31], line 3\u001b[0m\n\u001b[1;32m      1\u001b[0m resp \u001b[38;5;241m=\u001b[39m client\u001b[38;5;241m.\u001b[39mchat\u001b[38;5;241m.\u001b[39mcompletions\u001b[38;5;241m.\u001b[39mcreate(\n\u001b[1;32m      2\u001b[0m     model\u001b[38;5;241m=\u001b[39m\u001b[38;5;124m\"\u001b[39m\u001b[38;5;124mgpt-4o-mini\u001b[39m\u001b[38;5;124m\"\u001b[39m,  \u001b[38;5;66;03m# or your available model\u001b[39;00m\n\u001b[0;32m----> 3\u001b[0m     messages\u001b[38;5;241m=\u001b[39m[{\u001b[38;5;124m\"\u001b[39m\u001b[38;5;124mrole\u001b[39m\u001b[38;5;124m\"\u001b[39m:\u001b[38;5;124m\"\u001b[39m\u001b[38;5;124msystem\u001b[39m\u001b[38;5;124m\"\u001b[39m,\u001b[38;5;124m\"\u001b[39m\u001b[38;5;124mcontent\u001b[39m\u001b[38;5;124m\"\u001b[39m:SYSTEM},{\u001b[38;5;124m\"\u001b[39m\u001b[38;5;124mrole\u001b[39m\u001b[38;5;124m\"\u001b[39m:\u001b[38;5;124m\"\u001b[39m\u001b[38;5;124muser\u001b[39m\u001b[38;5;124m\"\u001b[39m,\u001b[38;5;124m\"\u001b[39m\u001b[38;5;124mcontent\u001b[39m\u001b[38;5;124m\"\u001b[39m:\u001b[43muser\u001b[49m}],\n\u001b[1;32m      4\u001b[0m     \u001b[38;5;66;03m# avoid temperature if your model complains; otherwise use 0–0.2 for stability\u001b[39;00m\n\u001b[1;32m      5\u001b[0m     max_tokens\u001b[38;5;241m=\u001b[39m\u001b[38;5;241m120\u001b[39m\n\u001b[1;32m      6\u001b[0m )\n\u001b[1;32m      7\u001b[0m data \u001b[38;5;241m=\u001b[39m json\u001b[38;5;241m.\u001b[39mloads(resp\u001b[38;5;241m.\u001b[39mchoices[\u001b[38;5;241m0\u001b[39m]\u001b[38;5;241m.\u001b[39mmessage\u001b[38;5;241m.\u001b[39mcontent)\n",
      "\u001b[0;31mNameError\u001b[0m: name 'user' is not defined"
     ]
    }
   ],
   "source": [
    "resp = client.chat.completions.create(\n",
    "    model=\"gpt-4o-mini\",  # or your available model\n",
    "    messages=[{\"role\":\"system\",\"content\":SYSTEM},{\"role\":\"user\",\"content\":user}],\n",
    "    # avoid temperature if your model complains; otherwise use 0–0.2 for stability\n",
    "    max_tokens=120\n",
    ")\n",
    "data = json.loads(resp.choices[0].message.content)"
   ]
  },
  {
   "cell_type": "code",
   "execution_count": null,
   "id": "b87d033c",
   "metadata": {},
   "outputs": [
    {
     "data": {
      "text/plain": [
       "{'subject': 'Dog Bite Incident',\n",
       " 'summary': 'Sarah Cooper, an Animal Care Specialist, was bitten by a large dog under her right upper arm while exiting the kennel.'}"
      ]
     },
     "execution_count": 15,
     "metadata": {},
     "output_type": "execute_result"
    }
   ],
   "source": [
    "data"
   ]
  },
  {
   "cell_type": "markdown",
   "id": "01688655",
   "metadata": {},
   "source": [
    "Function to get summary and subject"
   ]
  },
  {
   "cell_type": "code",
   "execution_count": 26,
   "id": "d706d33c",
   "metadata": {},
   "outputs": [],
   "source": [
    "def summarize_and_extract_subject_and_summary(conversation, model=\"gpt-4o-mini\"):\n",
    "    \"\"\"\n",
    "    Summarizes a conversation and extracts a short subject line.\n",
    "    \n",
    "    Args:\n",
    "        conversation (str): Full text of the conversation or message thread.\n",
    "        model (str): OpenAI model to use.\n",
    "\n",
    "    Returns:\n",
    "        dict: { \"subject\": str, \"summary\": str }\n",
    "    \"\"\"\n",
    "    prompt = f\"\"\"\n",
    "    You are given a conversation between a claimant and adjuster.\n",
    "    1. Provide a short subject line (max 8 words) summarizing the main topic. \n",
    "    2. Provide a concise summary (1 sentence) covering the key points.\n",
    "\n",
    "    Provide in JSON format:\n",
    "    {{\n",
    "        \"subject\": \"<short subject line>\",\n",
    "        \"summary\": \"<concise summary>\"\n",
    "    }}\n",
    "\n",
    "    Conversation:\n",
    "    {conversation}\n",
    "    \"\"\"\n",
    "\n",
    "    completion = client.chat.completions.create(\n",
    "        model=model,\n",
    "        messages=[{\"role\": \"user\", \"content\": prompt}],\n",
    "        temperature=0.3\n",
    "    )\n",
    "\n",
    "    response_text = completion.choices[0].message.content.strip()\n",
    "\n",
    "    # Optional: crude split if model outputs in Subject/Summary format\n",
    "    if \"subject\" in response_text and \"summary\" in response_text:\n",
    "        try:\n",
    "            response_json = json.loads(response_text)\n",
    "            subject = response_json.get(\"subject\", \"\")\n",
    "            summary = response_json.get(\"summary\", \"\")\n",
    "        except json.JSONDecodeError:\n",
    "            # Fallback if JSON parsing fails\n",
    "            parts = response_text.split(\"\\n\")\n",
    "            subject = parts[0].replace(\"Subject:\", \"\").strip()\n",
    "            summary = parts[1].replace(\"Summary:\", \"\").strip()\n",
    "    else:\n",
    "        # Fallback to manual extraction\n",
    "        lines = response_text.split(\"\\n\")\n",
    "        subject = lines[0].strip()\n",
    "        summary = \" \".join(line.strip() for line in lines[1:]).strip()\n",
    "\n",
    "    return {\"subject\": subject, \"summary\": summary}"
   ]
  },
  {
   "cell_type": "code",
   "execution_count": 26,
   "id": "d42c0720",
   "metadata": {},
   "outputs": [
    {
     "name": "stdout",
     "output_type": "stream",
     "text": [
      "{'subject': 'Reimbursement Form Missing Information', 'summary': 'The claimant needs to resend the reimbursement form due to a missing mileage section.'}\n"
     ]
    }
   ],
   "source": [
    "# Example usage:\n",
    "conversation_text = \"\"\"\n",
    "Claimant: I sent the reimbursement form last week. Have you received it?\n",
    "Adjuster: Yes, but it’s missing the mileage section.\n",
    "Claimant: Okay, I’ll resend with the missing info.\n",
    "\"\"\"\n",
    "result = summarize_and_extract_subject_and_summary(conversation_text)\n",
    "print(result)"
   ]
  },
  {
   "cell_type": "code",
   "execution_count": 24,
   "id": "1a31dc25",
   "metadata": {},
   "outputs": [],
   "source": [
    "from tqdm import tqdm\n",
    "tqdm.pandas()"
   ]
  },
  {
   "cell_type": "markdown",
   "id": "f5d4d3e7",
   "metadata": {},
   "source": [
    "### Function to extract subject and summary from JSON"
   ]
  },
  {
   "cell_type": "code",
   "execution_count": 37,
   "id": "6a92053d",
   "metadata": {},
   "outputs": [],
   "source": [
    "def extract_subject_summary(row):\n",
    "    \"\"\"\n",
    "    Extract subject and summary from a dict or stringified dict.\n",
    "    Returns (subject, summary) or (None, None) if not found.\n",
    "    \"\"\"\n",
    "    if isinstance(row, dict):\n",
    "        subject = row.get(\"subject\") or None\n",
    "        summary = row.get(\"summary\") or None\n",
    "        return subject, summary\n",
    "\n",
    "    if isinstance(row, str):\n",
    "        row = row.strip()\n",
    "        if not (row.startswith(\"{\") and row.endswith(\"}\")):\n",
    "            return None, None\n",
    "        try:\n",
    "            d = ast.literal_eval(row)\n",
    "            if isinstance(d, dict):\n",
    "                subject = d.get(\"subject\") or None\n",
    "                summary = d.get(\"summary\") or None\n",
    "                return subject, summary\n",
    "        except (ValueError, SyntaxError):\n",
    "            return None, None\n",
    "\n",
    "    return None, None\n",
    "\n"
   ]
  },
  {
   "cell_type": "markdown",
   "id": "d83ee3aa",
   "metadata": {},
   "source": [
    "## Apply to dataset"
   ]
  },
  {
   "cell_type": "code",
   "execution_count": 32,
   "id": "c9518eec",
   "metadata": {},
   "outputs": [
    {
     "name": "stderr",
     "output_type": "stream",
     "text": [
      "100%|██████████| 3079/3079 [53:55<00:00,  1.05s/it] \n"
     ]
    }
   ],
   "source": [
    "dict_subject_summary = messages['content'].progress_apply(\n",
    "    lambda x: summarize_and_extract_subject_and_summary(x, model=\"gpt-4o-mini\")\n",
    ")\n",
    "messages[[\"subject\", \"summary\"]] = dict_subject_summary.apply(lambda x: pd.Series(extract_subject_summary(x)))"
   ]
  },
  {
   "cell_type": "code",
   "execution_count": 38,
   "id": "3df5f7ce",
   "metadata": {},
   "outputs": [],
   "source": [
    "messages[[\"subject\", \"summary\"]] = dict_subject_summary.apply(lambda x: pd.Series(extract_subject_summary(x)))"
   ]
  },
  {
   "cell_type": "code",
   "execution_count": null,
   "id": "31e5f01d",
   "metadata": {},
   "outputs": [],
   "source": [
    "messages = messages.reset_index().rename(columns={'index': 'id'})"
   ]
  },
  {
   "cell_type": "code",
   "execution_count": 61,
   "id": "8defdb3c",
   "metadata": {},
   "outputs": [],
   "source": [
    "messages = messages.rename(columns={'id': 'message_id'})"
   ]
  },
  {
   "cell_type": "code",
   "execution_count": 62,
   "id": "bf03ea15",
   "metadata": {},
   "outputs": [
    {
     "data": {
      "text/html": [
       "<div>\n",
       "<style scoped>\n",
       "    .dataframe tbody tr th:only-of-type {\n",
       "        vertical-align: middle;\n",
       "    }\n",
       "\n",
       "    .dataframe tbody tr th {\n",
       "        vertical-align: top;\n",
       "    }\n",
       "\n",
       "    .dataframe thead th {\n",
       "        text-align: right;\n",
       "    }\n",
       "</style>\n",
       "<table border=\"1\" class=\"dataframe\">\n",
       "  <thead>\n",
       "    <tr style=\"text-align: right;\">\n",
       "      <th></th>\n",
       "      <th>message_id</th>\n",
       "      <th>thread_id</th>\n",
       "      <th>timestamp</th>\n",
       "      <th>role</th>\n",
       "      <th>content</th>\n",
       "      <th>subject</th>\n",
       "      <th>summary</th>\n",
       "    </tr>\n",
       "  </thead>\n",
       "  <tbody>\n",
       "    <tr>\n",
       "      <th>0</th>\n",
       "      <td>0</td>\n",
       "      <td>0</td>\n",
       "      <td>2024-06-07 14:47:59</td>\n",
       "      <td>supervisor</td>\n",
       "      <td>Good morning, Ms. Cooper - when you have a few...</td>\n",
       "      <td>```json</td>\n",
       "      <td>{</td>\n",
       "    </tr>\n",
       "    <tr>\n",
       "      <th>1</th>\n",
       "      <td>1</td>\n",
       "      <td>0</td>\n",
       "      <td>2024-06-10 13:18:38</td>\n",
       "      <td>claimant</td>\n",
       "      <td>1. What is your job title/department? Animal C...</td>\n",
       "      <td>```json</td>\n",
       "      <td>{</td>\n",
       "    </tr>\n",
       "    <tr>\n",
       "      <th>2</th>\n",
       "      <td>2</td>\n",
       "      <td>0</td>\n",
       "      <td>2024-06-10 13:39:40</td>\n",
       "      <td>supervisor</td>\n",
       "      <td>Thank you!!\\n\\nEmily Martinez\\nSupervisor WC T...</td>\n",
       "      <td>Claim Acknowledgment and Contact Information</td>\n",
       "      <td>Emily Martinez provides her contact details fo...</td>\n",
       "    </tr>\n",
       "    <tr>\n",
       "      <th>3</th>\n",
       "      <td>3</td>\n",
       "      <td>0</td>\n",
       "      <td>2024-07-01 19:03:40</td>\n",
       "      <td>supervisor</td>\n",
       "      <td>Hi Sarah - According to the documents from you...</td>\n",
       "      <td>Follow-Up Appointment Confirmation</td>\n",
       "      <td>The adjuster is inquiring if the claimant atte...</td>\n",
       "    </tr>\n",
       "    <tr>\n",
       "      <th>4</th>\n",
       "      <td>4</td>\n",
       "      <td>0</td>\n",
       "      <td>2024-07-02 3:35:15</td>\n",
       "      <td>claimant</td>\n",
       "      <td>I was unable to make it to an appointment on 6...</td>\n",
       "      <td>Appointment Rescheduling Update</td>\n",
       "      <td>The claimant rescheduled their missed appointm...</td>\n",
       "    </tr>\n",
       "    <tr>\n",
       "      <th>...</th>\n",
       "      <td>...</td>\n",
       "      <td>...</td>\n",
       "      <td>...</td>\n",
       "      <td>...</td>\n",
       "      <td>...</td>\n",
       "      <td>...</td>\n",
       "      <td>...</td>\n",
       "    </tr>\n",
       "    <tr>\n",
       "      <th>3074</th>\n",
       "      <td>3074</td>\n",
       "      <td>946</td>\n",
       "      <td>2022-07-01 13:39:39</td>\n",
       "      <td>claimant</td>\n",
       "      <td>No thanks</td>\n",
       "      <td>Claimant Declines Offer</td>\n",
       "      <td>The claimant has decided not to accept the offer.</td>\n",
       "    </tr>\n",
       "    <tr>\n",
       "      <th>3075</th>\n",
       "      <td>3075</td>\n",
       "      <td>947</td>\n",
       "      <td>2022-10-04 13:30:59</td>\n",
       "      <td>claimant</td>\n",
       "      <td>Sarah, if you recall in the documentation ther...</td>\n",
       "      <td>```json</td>\n",
       "      <td>{</td>\n",
       "    </tr>\n",
       "    <tr>\n",
       "      <th>3076</th>\n",
       "      <td>3076</td>\n",
       "      <td>948</td>\n",
       "      <td>2024-09-05 13:56:09</td>\n",
       "      <td>claimant</td>\n",
       "      <td>Hello, Ms.Smith I sent you &amp; sign the paperwor...</td>\n",
       "      <td>Paperwork Submission Confirmation</td>\n",
       "      <td>Ms. Smith confirms sending and signing the pap...</td>\n",
       "    </tr>\n",
       "    <tr>\n",
       "      <th>3077</th>\n",
       "      <td>3077</td>\n",
       "      <td>948</td>\n",
       "      <td>2024-09-13 12:32:02</td>\n",
       "      <td>claimant</td>\n",
       "      <td>Ms. Smith, I went back to work on September 3r...</td>\n",
       "      <td>Return to Work Update</td>\n",
       "      <td>Ms. Smith returned to work on September 3rd, 2...</td>\n",
       "    </tr>\n",
       "    <tr>\n",
       "      <th>3078</th>\n",
       "      <td>3078</td>\n",
       "      <td>948</td>\n",
       "      <td>2024-09-13 13:33:04</td>\n",
       "      <td>adjuster</td>\n",
       "      <td>Thank you!</td>\n",
       "      <td>Acknowledgment of Assistance</td>\n",
       "      <td>The claimant expresses gratitude to the adjuster.</td>\n",
       "    </tr>\n",
       "  </tbody>\n",
       "</table>\n",
       "<p>3079 rows × 7 columns</p>\n",
       "</div>"
      ],
      "text/plain": [
       "      message_id  thread_id            timestamp        role  \\\n",
       "0              0          0  2024-06-07 14:47:59  supervisor   \n",
       "1              1          0  2024-06-10 13:18:38    claimant   \n",
       "2              2          0  2024-06-10 13:39:40  supervisor   \n",
       "3              3          0  2024-07-01 19:03:40  supervisor   \n",
       "4              4          0   2024-07-02 3:35:15    claimant   \n",
       "...          ...        ...                  ...         ...   \n",
       "3074        3074        946  2022-07-01 13:39:39    claimant   \n",
       "3075        3075        947  2022-10-04 13:30:59    claimant   \n",
       "3076        3076        948  2024-09-05 13:56:09    claimant   \n",
       "3077        3077        948  2024-09-13 12:32:02    claimant   \n",
       "3078        3078        948  2024-09-13 13:33:04    adjuster   \n",
       "\n",
       "                                                content  \\\n",
       "0     Good morning, Ms. Cooper - when you have a few...   \n",
       "1     1. What is your job title/department? Animal C...   \n",
       "2     Thank you!!\\n\\nEmily Martinez\\nSupervisor WC T...   \n",
       "3     Hi Sarah - According to the documents from you...   \n",
       "4     I was unable to make it to an appointment on 6...   \n",
       "...                                                 ...   \n",
       "3074                                          No thanks   \n",
       "3075  Sarah, if you recall in the documentation ther...   \n",
       "3076  Hello, Ms.Smith I sent you & sign the paperwor...   \n",
       "3077  Ms. Smith, I went back to work on September 3r...   \n",
       "3078                                         Thank you!   \n",
       "\n",
       "                                           subject  \\\n",
       "0                                          ```json   \n",
       "1                                          ```json   \n",
       "2     Claim Acknowledgment and Contact Information   \n",
       "3               Follow-Up Appointment Confirmation   \n",
       "4                  Appointment Rescheduling Update   \n",
       "...                                            ...   \n",
       "3074                       Claimant Declines Offer   \n",
       "3075                                       ```json   \n",
       "3076             Paperwork Submission Confirmation   \n",
       "3077                         Return to Work Update   \n",
       "3078                  Acknowledgment of Assistance   \n",
       "\n",
       "                                                summary  \n",
       "0                                                     {  \n",
       "1                                                     {  \n",
       "2     Emily Martinez provides her contact details fo...  \n",
       "3     The adjuster is inquiring if the claimant atte...  \n",
       "4     The claimant rescheduled their missed appointm...  \n",
       "...                                                 ...  \n",
       "3074  The claimant has decided not to accept the offer.  \n",
       "3075                                                  {  \n",
       "3076  Ms. Smith confirms sending and signing the pap...  \n",
       "3077  Ms. Smith returned to work on September 3rd, 2...  \n",
       "3078  The claimant expresses gratitude to the adjuster.  \n",
       "\n",
       "[3079 rows x 7 columns]"
      ]
     },
     "execution_count": 62,
     "metadata": {},
     "output_type": "execute_result"
    }
   ],
   "source": [
    "messages"
   ]
  },
  {
   "cell_type": "code",
   "execution_count": 64,
   "id": "8fcd2a03",
   "metadata": {},
   "outputs": [],
   "source": [
    "messages.to_csv('all_messages_with_subject_and_summary.csv')"
   ]
  },
  {
   "cell_type": "code",
   "execution_count": 19,
   "id": "590afa36",
   "metadata": {},
   "outputs": [],
   "source": [
    "messages = pd.read_csv('all_messages_with_subject_and_summary.csv')  # Load your messages dataframe"
   ]
  },
  {
   "cell_type": "markdown",
   "id": "6d7c1d72",
   "metadata": {},
   "source": [
    "## Insert into Database"
   ]
  },
  {
   "cell_type": "code",
   "execution_count": 3,
   "id": "5f9af582",
   "metadata": {},
   "outputs": [],
   "source": [
    "messages = pd.read_csv('all_messages_with_subject_and_summary.csv')  # Load your messages dataframe"
   ]
  },
  {
   "cell_type": "code",
   "execution_count": 4,
   "id": "1d6a6869",
   "metadata": {},
   "outputs": [
    {
     "name": "stdout",
     "output_type": "stream",
     "text": [
      "(0, 'message_id', 'TEXT', 0, None, 1)\n",
      "(1, 'thread_id', 'TEXT', 0, None, 0)\n",
      "(2, 'ts_iso', 'TEXT', 1, None, 0)\n",
      "(3, 'ts_unix', 'INTEGER', 1, None, 0)\n",
      "(4, 'role', 'TEXT', 0, None, 0)\n",
      "(5, 'content', 'TEXT', 0, None, 0)\n",
      "(6, 'intents_json', 'TEXT', 0, None, 0)\n",
      "(7, 'intent_primary', 'TEXT', 0, None, 0)\n",
      "(8, 'sentiment', 'REAL', 0, None, 0)\n",
      "(9, 'language', 'TEXT', 0, None, 0)\n",
      "(10, 'metadata_json', 'TEXT', 0, None, 0)\n",
      "(11, 'source_file', 'TEXT', 0, None, 0)\n",
      "(12, 'line_no', 'INTEGER', 0, None, 0)\n",
      "(13, 'subject', 'TEXT', 0, None, 0)\n",
      "(14, 'summary', 'TEXT', 0, None, 0)\n",
      "(15, 'timestamp', 'TEXT', 0, None, 0)\n",
      "(16, 'all_intents', 'TEXT', 0, None, 0)\n",
      "(17, 'primary_intent', 'TEXT', 0, None, 0)\n",
      "(18, 'primary_intents', 'TEXT', 0, None, 0)\n"
     ]
    }
   ],
   "source": [
    "## Look at current columns\n",
    "def list_columns(db_path, table_name):\n",
    "    conn = sqlite3.connect(db_path)\n",
    "    cur = conn.cursor()\n",
    "    cur.execute(f\"PRAGMA table_info({table_name})\")\n",
    "    columns = cur.fetchall()\n",
    "    conn.close()\n",
    "    return columns\n",
    "\n",
    "cols = list_columns(\"claims.db\", \"messages\")\n",
    "for col in cols:\n",
    "    print(col)"
   ]
  },
  {
   "cell_type": "code",
   "execution_count": null,
   "id": "90f58ed4",
   "metadata": {},
   "outputs": [],
   "source": [
    "# # Connect to the database\n",
    "# conn = sqlite3.connect(\"claims.db\")\n",
    "# cur = conn.cursor()\n",
    "\n",
    "# # Run the UPDATE query\n",
    "# cur.execute(\"\"\"\n",
    "#     UPDATE messages\n",
    "#     SET message_id = substr(message_id, instr(message_id, ':') + 1)\n",
    "#     WHERE instr(message_id, ':') > 0;\n",
    "# \"\"\")\n",
    "\n",
    "# # Commit and close\n",
    "# conn.commit()\n",
    "# conn.close()\n"
   ]
  },
  {
   "cell_type": "markdown",
   "id": "619a2d57",
   "metadata": {},
   "source": [
    "## Update the columns to add subject and summary for matching rows\n"
   ]
  },
  {
   "cell_type": "code",
   "execution_count": null,
   "id": "0a799626",
   "metadata": {},
   "outputs": [],
   "source": [
    "## Add column titled subject\n",
    "def add_column(db_path, table_name, column_name, column_type=\"TEXT\"):\n",
    "    conn = sqlite3.connect(db_path)\n",
    "    cur = conn.cursor()\n",
    "    cur.execute(f\"ALTER TABLE {table_name} ADD COLUMN {column_name} {column_type}\")\n",
    "    conn.commit()\n",
    "    conn.close()\n",
    "\n",
    "# Example:\n",
    "add_column(\"claims.db\", \"messages\", \"subject\", \"TEXT\")"
   ]
  },
  {
   "cell_type": "code",
   "execution_count": 12,
   "id": "0b19f199",
   "metadata": {},
   "outputs": [],
   "source": [
    "\n",
    "def ensure_column(db_path: str, table: str, column: str, coltype: str = \"TEXT\"):\n",
    "    \"\"\"Add a column if it doesn't exist.\"\"\"\n",
    "    conn = sqlite3.connect(db_path)\n",
    "    cur = conn.cursor()\n",
    "    # check existing columns\n",
    "    cols = [r[1] for r in cur.execute(f\"PRAGMA table_info({table})\").fetchall()]\n",
    "    if column not in cols:\n",
    "        cur.execute(f\"ALTER TABLE {table} ADD COLUMN {column} {coltype}\")\n",
    "        conn.commit()\n",
    "    conn.close()\n",
    "\n",
    "def update_column_from_csv(\n",
    "    csv_path: str,\n",
    "    db_path: str,\n",
    "    table_name: str,\n",
    "    match_columns,  # can be str or list of str\n",
    "    update_column: str,\n",
    "    coltype: str = \"TEXT\",\n",
    "    chunksize: int = 50_000,\n",
    "):\n",
    "    \"\"\"\n",
    "    Update `table_name.update_column` in SQLite from values in CSV,\n",
    "    matching on one or more `match_columns`. CSV must contain all match columns and update_column.\n",
    "    \"\"\"\n",
    "\n",
    "    # Normalize to list\n",
    "    if isinstance(match_columns, str):\n",
    "        match_columns = [match_columns]\n",
    "\n",
    "    # 1) Ensure target column exists\n",
    "    ensure_column(db_path, table_name, update_column, coltype)\n",
    "\n",
    "    conn = sqlite3.connect(db_path)\n",
    "    cur = conn.cursor()\n",
    "\n",
    "    for chunk in pd.read_csv(csv_path, chunksize=chunksize):\n",
    "        required_cols = set(match_columns + [update_column])\n",
    "        if not required_cols.issubset(chunk.columns):\n",
    "            raise ValueError(f\"CSV must contain columns: {', '.join(required_cols)}\")\n",
    "\n",
    "        # Drop rows missing any of the required columns\n",
    "        sub = chunk[list(required_cols)].dropna()\n",
    "\n",
    "        # Build parameter tuples: (update_value, match_val1, match_val2, ...)\n",
    "        params = [\n",
    "            tuple([row[update_column]] + [row[col] for col in match_columns])\n",
    "            for _, row in sub.iterrows()\n",
    "        ]\n",
    "        if not params:\n",
    "            continue\n",
    "\n",
    "        # SQL: UPDATE table SET col=? WHERE col1=? AND col2=? ...\n",
    "        where_clause = \" AND \".join([f\"{col} = ?\" for col in match_columns])\n",
    "        sql = f\"UPDATE {table_name} SET {update_column} = ? WHERE {where_clause}\"\n",
    "\n",
    "        cur.executemany(sql, params)\n",
    "        conn.commit()\n",
    "\n",
    "    conn.close()\n",
    "\n",
    "    print(f\"Updated {len(params)} rows for column {update_column}\")\n"
   ]
  },
  {
   "cell_type": "code",
   "execution_count": 16,
   "id": "26d0dc5e",
   "metadata": {},
   "outputs": [
    {
     "name": "stdout",
     "output_type": "stream",
     "text": [
      "Updated 3079 rows for column subject\n"
     ]
    }
   ],
   "source": [
    "update_column_from_csv(\n",
    "    csv_path=\"all_messages_with_subject_and_summary.csv\",\n",
    "    db_path=\"claims.db\",\n",
    "    table_name=\"messages\",\n",
    "    match_columns=[\"thread_id\", \"content\"],         # or message_id, etc.\n",
    "    update_column=\"subject\",          # the column you’re adding/updating\n",
    "    coltype=\"TEXT\"\n",
    ")"
   ]
  },
  {
   "cell_type": "code",
   "execution_count": 17,
   "id": "a28c570f",
   "metadata": {},
   "outputs": [
    {
     "name": "stdout",
     "output_type": "stream",
     "text": [
      "Updated 3078 rows for column summary\n"
     ]
    }
   ],
   "source": [
    "update_column_from_csv(\n",
    "    csv_path=\"all_messages_with_subject_and_summary.csv\",\n",
    "    db_path=\"claims.db\",\n",
    "    table_name=\"messages\",\n",
    "    match_columns=[\"thread_id\", \"content\"],       # or message_id, etc.\n",
    "    update_column=\"summary\",          # the column you’re adding/updating\n",
    "    coltype=\"TEXT\"\n",
    ")"
   ]
  },
  {
   "cell_type": "code",
   "execution_count": null,
   "id": "a246f4ea",
   "metadata": {},
   "outputs": [],
   "source": []
  }
 ],
 "metadata": {
  "kernelspec": {
   "display_name": "topic-modeling",
   "language": "python",
   "name": "python3"
  },
  "language_info": {
   "codemirror_mode": {
    "name": "ipython",
    "version": 3
   },
   "file_extension": ".py",
   "mimetype": "text/x-python",
   "name": "python",
   "nbconvert_exporter": "python",
   "pygments_lexer": "ipython3",
   "version": "3.11.0"
  }
 },
 "nbformat": 4,
 "nbformat_minor": 5
}
